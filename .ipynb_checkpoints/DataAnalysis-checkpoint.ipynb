{
 "cells": [
  {
   "cell_type": "markdown",
   "metadata": {},
   "source": [
    "# Analysis of dataset"
   ]
  },
  {
   "cell_type": "code",
   "execution_count": 64,
   "metadata": {
    "collapsed": false
   },
   "outputs": [
    {
     "ename": "ImportError",
     "evalue": "No module named model_selection",
     "output_type": "error",
     "traceback": [
      "\u001b[1;31m---------------------------------------------------------------------------\u001b[0m",
      "\u001b[1;31mImportError\u001b[0m                               Traceback (most recent call last)",
      "\u001b[1;32m<ipython-input-64-65981c2b4c79>\u001b[0m in \u001b[0;36m<module>\u001b[1;34m()\u001b[0m\n\u001b[0;32m      5\u001b[0m \u001b[1;32mfrom\u001b[0m \u001b[0msklearn\u001b[0m\u001b[1;33m.\u001b[0m\u001b[0mlinear_model\u001b[0m \u001b[1;32mimport\u001b[0m \u001b[0mRidge\u001b[0m\u001b[1;33m\u001b[0m\u001b[0m\n\u001b[0;32m      6\u001b[0m \u001b[1;32mfrom\u001b[0m \u001b[0msklearn\u001b[0m\u001b[1;33m.\u001b[0m\u001b[0mtree\u001b[0m \u001b[1;32mimport\u001b[0m \u001b[0mDecisionTreeRegressor\u001b[0m\u001b[1;33m\u001b[0m\u001b[0m\n\u001b[1;32m----> 7\u001b[1;33m \u001b[1;32mfrom\u001b[0m \u001b[0msklearn\u001b[0m\u001b[1;33m.\u001b[0m\u001b[0mmodel_selection\u001b[0m \u001b[1;32mimport\u001b[0m \u001b[0mcross_val_score\u001b[0m\u001b[1;33m\u001b[0m\u001b[0m\n\u001b[0m\u001b[0;32m      8\u001b[0m \u001b[1;32mfrom\u001b[0m \u001b[0msklearn\u001b[0m \u001b[1;32mimport\u001b[0m \u001b[0mmetrics\u001b[0m\u001b[1;33m\u001b[0m\u001b[0m\n\u001b[0;32m      9\u001b[0m \u001b[0mget_ipython\u001b[0m\u001b[1;33m(\u001b[0m\u001b[1;33m)\u001b[0m\u001b[1;33m.\u001b[0m\u001b[0mmagic\u001b[0m\u001b[1;33m(\u001b[0m\u001b[1;34mu'matplotlib inline'\u001b[0m\u001b[1;33m)\u001b[0m\u001b[1;33m\u001b[0m\u001b[0m\n",
      "\u001b[1;31mImportError\u001b[0m: No module named model_selection"
     ]
    }
   ],
   "source": [
    "import numpy as np #Means that we will import all the functions from the numpy package\n",
    "import pylab as plt\n",
    "import pandas as pd\n",
    "from sklearn.linear_model import RidgeCV\n",
    "from sklearn.linear_model import Ridge\n",
    "from sklearn.tree import DecisionTreeRegressor\n",
    "from sklearn.cross_validation import KFold, cross_val_score\n",
    "from sklearn import metrics\n",
    "%matplotlib inline "
   ]
  },
  {
   "cell_type": "code",
   "execution_count": 2,
   "metadata": {
    "collapsed": true
   },
   "outputs": [],
   "source": [
    "df = pd.read_csv('data/batting.csv') #windows or mac, be careful \\/"
   ]
  },
  {
   "cell_type": "code",
   "execution_count": 3,
   "metadata": {
    "collapsed": false
   },
   "outputs": [
    {
     "data": {
      "text/html": [
       "<div>\n",
       "<table border=\"1\" class=\"dataframe\">\n",
       "  <thead>\n",
       "    <tr style=\"text-align: right;\">\n",
       "      <th></th>\n",
       "      <th>Name</th>\n",
       "      <th>MarApr_AB</th>\n",
       "      <th>MarApr_PA</th>\n",
       "      <th>MarApr_H</th>\n",
       "      <th>MarApr_AVG</th>\n",
       "      <th>FullSeason_AVG</th>\n",
       "    </tr>\n",
       "  </thead>\n",
       "  <tbody>\n",
       "    <tr>\n",
       "      <th>0</th>\n",
       "      <td>DJ LeMahieu</td>\n",
       "      <td>79</td>\n",
       "      <td>88</td>\n",
       "      <td>23</td>\n",
       "      <td>0.291</td>\n",
       "      <td>0.348</td>\n",
       "    </tr>\n",
       "    <tr>\n",
       "      <th>1</th>\n",
       "      <td>Daniel Murphy</td>\n",
       "      <td>81</td>\n",
       "      <td>90</td>\n",
       "      <td>30</td>\n",
       "      <td>0.370</td>\n",
       "      <td>0.347</td>\n",
       "    </tr>\n",
       "    <tr>\n",
       "      <th>2</th>\n",
       "      <td>Jose Altuve</td>\n",
       "      <td>95</td>\n",
       "      <td>110</td>\n",
       "      <td>29</td>\n",
       "      <td>0.305</td>\n",
       "      <td>0.338</td>\n",
       "    </tr>\n",
       "    <tr>\n",
       "      <th>3</th>\n",
       "      <td>Joey Votto</td>\n",
       "      <td>83</td>\n",
       "      <td>98</td>\n",
       "      <td>19</td>\n",
       "      <td>0.229</td>\n",
       "      <td>0.326</td>\n",
       "    </tr>\n",
       "    <tr>\n",
       "      <th>4</th>\n",
       "      <td>Charlie Blackmon</td>\n",
       "      <td>0</td>\n",
       "      <td>0</td>\n",
       "      <td>0</td>\n",
       "      <td>NaN</td>\n",
       "      <td>0.324</td>\n",
       "    </tr>\n",
       "  </tbody>\n",
       "</table>\n",
       "</div>"
      ],
      "text/plain": [
       "               Name  MarApr_AB  MarApr_PA  MarApr_H  MarApr_AVG  \\\n",
       "0       DJ LeMahieu         79         88        23       0.291   \n",
       "1     Daniel Murphy         81         90        30       0.370   \n",
       "2       Jose Altuve         95        110        29       0.305   \n",
       "3        Joey Votto         83         98        19       0.229   \n",
       "4  Charlie Blackmon          0          0         0         NaN   \n",
       "\n",
       "   FullSeason_AVG  \n",
       "0           0.348  \n",
       "1           0.347  \n",
       "2           0.338  \n",
       "3           0.326  \n",
       "4           0.324  "
      ]
     },
     "execution_count": 3,
     "metadata": {},
     "output_type": "execute_result"
    }
   ],
   "source": [
    "df.head()"
   ]
  },
  {
   "cell_type": "code",
   "execution_count": 5,
   "metadata": {
    "collapsed": false
   },
   "outputs": [],
   "source": [
    "for key in df:\n",
    "    df = df[pd.notnull(df[key])] #We clean the data from NaN elements"
   ]
  },
  {
   "cell_type": "code",
   "execution_count": 6,
   "metadata": {
    "collapsed": false
   },
   "outputs": [
    {
     "data": {
      "text/html": [
       "<div>\n",
       "<table border=\"1\" class=\"dataframe\">\n",
       "  <thead>\n",
       "    <tr style=\"text-align: right;\">\n",
       "      <th></th>\n",
       "      <th>Name</th>\n",
       "      <th>MarApr_AB</th>\n",
       "      <th>MarApr_PA</th>\n",
       "      <th>MarApr_H</th>\n",
       "      <th>MarApr_AVG</th>\n",
       "      <th>FullSeason_AVG</th>\n",
       "    </tr>\n",
       "  </thead>\n",
       "  <tbody>\n",
       "    <tr>\n",
       "      <th>0</th>\n",
       "      <td>DJ LeMahieu</td>\n",
       "      <td>79</td>\n",
       "      <td>88</td>\n",
       "      <td>23</td>\n",
       "      <td>0.291</td>\n",
       "      <td>0.348</td>\n",
       "    </tr>\n",
       "    <tr>\n",
       "      <th>1</th>\n",
       "      <td>Daniel Murphy</td>\n",
       "      <td>81</td>\n",
       "      <td>90</td>\n",
       "      <td>30</td>\n",
       "      <td>0.370</td>\n",
       "      <td>0.347</td>\n",
       "    </tr>\n",
       "    <tr>\n",
       "      <th>2</th>\n",
       "      <td>Jose Altuve</td>\n",
       "      <td>95</td>\n",
       "      <td>110</td>\n",
       "      <td>29</td>\n",
       "      <td>0.305</td>\n",
       "      <td>0.338</td>\n",
       "    </tr>\n",
       "    <tr>\n",
       "      <th>3</th>\n",
       "      <td>Joey Votto</td>\n",
       "      <td>83</td>\n",
       "      <td>98</td>\n",
       "      <td>19</td>\n",
       "      <td>0.229</td>\n",
       "      <td>0.326</td>\n",
       "    </tr>\n",
       "    <tr>\n",
       "      <th>5</th>\n",
       "      <td>Jean Segura</td>\n",
       "      <td>111</td>\n",
       "      <td>116</td>\n",
       "      <td>37</td>\n",
       "      <td>0.333</td>\n",
       "      <td>0.319</td>\n",
       "    </tr>\n",
       "  </tbody>\n",
       "</table>\n",
       "</div>"
      ],
      "text/plain": [
       "            Name  MarApr_AB  MarApr_PA  MarApr_H  MarApr_AVG  FullSeason_AVG\n",
       "0    DJ LeMahieu         79         88        23       0.291           0.348\n",
       "1  Daniel Murphy         81         90        30       0.370           0.347\n",
       "2    Jose Altuve         95        110        29       0.305           0.338\n",
       "3     Joey Votto         83         98        19       0.229           0.326\n",
       "5    Jean Segura        111        116        37       0.333           0.319"
      ]
     },
     "execution_count": 6,
     "metadata": {},
     "output_type": "execute_result"
    }
   ],
   "source": [
    "df.head()"
   ]
  },
  {
   "cell_type": "code",
   "execution_count": 19,
   "metadata": {
    "collapsed": false
   },
   "outputs": [
    {
     "data": {
      "text/plain": [
       "<matplotlib.axes._subplots.AxesSubplot at 0x14431630>"
      ]
     },
     "execution_count": 19,
     "metadata": {},
     "output_type": "execute_result"
    },
    {
     "data": {
      "image/png": "[encoded data removed]",
      "text/plain": [
       "<matplotlib.figure.Figure at 0x12aa8f60>"
      ]
     },
     "metadata": {},
     "output_type": "display_data"
    }
   ],
   "source": [
    "df.plot.scatter(x ='MarApr_H', y ='MarApr_AB')"
   ]
  },
  {
   "cell_type": "code",
   "execution_count": 53,
   "metadata": {
    "collapsed": false
   },
   "outputs": [],
   "source": [
    "alpha_list = np.logspace(-3, 10, num=100)\n",
    "model = RidgeCV(alphas = alpha_list, cv =3)"
   ]
  },
  {
   "cell_type": "code",
   "execution_count": 54,
   "metadata": {
    "collapsed": false
   },
   "outputs": [],
   "source": [
    "X = df.values[:,1:5]\n",
    "Y = df.FullSeason_AVG[:, None]"
   ]
  },
  {
   "cell_type": "code",
   "execution_count": 55,
   "metadata": {
    "collapsed": false
   },
   "outputs": [
    {
     "data": {
      "text/plain": [
       "RidgeCV(alphas=array([  1.00000e-03,   1.35305e-03, ...,   7.39072e+09,   1.00000e+10]),\n",
       "    cv=3, fit_intercept=True, gcv_mode=None, normalize=False, scoring=None,\n",
       "    store_cv_values=False)"
      ]
     },
     "execution_count": 55,
     "metadata": {},
     "output_type": "execute_result"
    }
   ],
   "source": [
    "model.fit(X, Y)"
   ]
  },
  {
   "cell_type": "code",
   "execution_count": 61,
   "metadata": {
    "collapsed": false
   },
   "outputs": [
    {
     "name": "stdout",
     "output_type": "stream",
     "text": [
      "[[  9.94820930e-05   6.60402213e-05   1.88487962e-03   2.32049819e-05]]\n",
      "1097.49876549\n"
     ]
    }
   ],
   "source": [
    "print model.coef_\n",
    "print model.alpha_"
   ]
  },
  {
   "cell_type": "code",
   "execution_count": 57,
   "metadata": {
    "collapsed": true
   },
   "outputs": [],
   "source": [
    "predict_x = model.predict(X)"
   ]
  },
  {
   "cell_type": "code",
   "execution_count": 58,
   "metadata": {
    "collapsed": false
   },
   "outputs": [
    {
     "name": "stdout",
     "output_type": "stream",
     "text": [
      "[[ 0.27276984]\n",
      " [ 0.28629687]\n",
      " [ 0.28712404]\n",
      " [ 0.26628721]\n",
      " [ 0.30419168]\n",
      " [ 0.28878004]\n",
      " [ 0.29364071]\n",
      " [ 0.27630945]\n",
      " [ 0.27809449]\n",
      " [ 0.27663893]\n",
      " [ 0.2929789 ]\n",
      " [ 0.27753368]\n",
      " [ 0.28289008]\n",
      " [ 0.2761433 ]\n",
      " [ 0.27832597]\n",
      " [ 0.28295636]\n",
      " [ 0.28318904]\n",
      " [ 0.26737916]\n",
      " [ 0.27597787]\n",
      " [ 0.26966058]\n",
      " [ 0.27528341]\n",
      " [ 0.28024517]\n",
      " [ 0.28781909]\n",
      " [ 0.27138192]\n",
      " [ 0.28331904]\n",
      " [ 0.27124695]\n",
      " [ 0.27855816]\n",
      " [ 0.26933108]\n",
      " [ 0.28424694]\n",
      " [ 0.28275873]\n",
      " [ 0.26860258]\n",
      " [ 0.2943677 ]\n",
      " [ 0.27396156]\n",
      " [ 0.27544884]\n",
      " [ 0.27237294]\n",
      " [ 0.26208583]\n",
      " [ 0.26774271]\n",
      " [ 0.27597787]\n",
      " [ 0.29026657]\n",
      " [ 0.26866862]\n",
      " [ 0.27224022]\n",
      " [ 0.27769623]\n",
      " [ 0.28275943]\n",
      " [ 0.26063083]\n",
      " [ 0.28074083]\n",
      " [ 0.26595701]\n",
      " [ 0.28494139]\n",
      " [ 0.28540438]\n",
      " [ 0.28778571]\n",
      " [ 0.27475441]\n",
      " [ 0.26516244]\n",
      " [ 0.25461267]\n",
      " [ 0.28378397]\n",
      " [ 0.27849013]\n",
      " [ 0.25543882]\n",
      " [ 0.27366309]\n",
      " [ 0.26503033]\n",
      " [ 0.27554689]\n",
      " [ 0.26545995]\n",
      " [ 0.27409271]\n",
      " [ 0.27320174]\n",
      " [ 0.2823618 ]\n",
      " [ 0.27564764]\n",
      " [ 0.27597855]\n",
      " [ 0.26483083]\n",
      " [ 0.27389527]\n",
      " [ 0.27392794]\n",
      " [ 0.26929648]\n",
      " [ 0.27677233]\n",
      " [ 0.27287009]\n",
      " [ 0.27997963]\n",
      " [ 0.26602407]\n",
      " [ 0.26149324]\n",
      " [ 0.28024588]\n",
      " [ 0.27114952]\n",
      " [ 0.26096314]\n",
      " [ 0.27849282]\n",
      " [ 0.28553703]\n",
      " [ 0.27511809]\n",
      " [ 0.26582493]\n",
      " [ 0.2555709 ]\n",
      " [ 0.28289008]\n",
      " [ 0.26605642]\n",
      " [ 0.26804099]\n",
      " [ 0.25682707]\n",
      " [ 0.2774016 ]\n",
      " [ 0.26228456]\n",
      " [ 0.28199619]\n",
      " [ 0.28328846]\n",
      " [ 0.27201113]\n",
      " [ 0.26281425]\n",
      " [ 0.28689325]\n",
      " [ 0.28024379]\n",
      " [ 0.28183144]\n",
      " [ 0.2874882 ]\n",
      " [ 0.27177816]\n",
      " [ 0.26383957]\n",
      " [ 0.27634282]\n",
      " [ 0.25692746]\n",
      " [ 0.27181061]\n",
      " [ 0.27693724]\n",
      " [ 0.27568033]\n",
      " [ 0.26436923]\n",
      " [ 0.24336541]\n",
      " [ 0.26450131]\n",
      " [ 0.27114882]\n",
      " [ 0.27617737]\n",
      " [ 0.25438015]\n",
      " [ 0.26241801]\n",
      " [ 0.26612319]\n",
      " [ 0.27131661]\n",
      " [ 0.25606723]\n",
      " [ 0.25649685]\n",
      " [ 0.2712142 ]\n",
      " [ 0.28153459]\n",
      " [ 0.26814043]\n",
      " [ 0.27611133]\n",
      " [ 0.28080757]\n",
      " [ 0.25921004]\n",
      " [ 0.25659555]\n",
      " [ 0.2678088 ]\n",
      " [ 0.2594742 ]\n",
      " [ 0.2706533 ]\n",
      " [ 0.2582173 ]\n",
      " [ 0.2707513 ]\n",
      " [ 0.2642038 ]\n",
      " [ 0.2665521 ]\n",
      " [ 0.27382948]\n",
      " [ 0.26473212]\n",
      " [ 0.26856931]\n",
      " [ 0.25950687]\n",
      " [ 0.25011263]]\n"
     ]
    }
   ],
   "source": [
    "print predict_x"
   ]
  },
  {
   "cell_type": "code",
   "execution_count": 59,
   "metadata": {
    "collapsed": false
   },
   "outputs": [
    {
     "data": {
      "text/plain": [
       "<matplotlib.collections.PathCollection at 0x1771ddd8>"
      ]
     },
     "execution_count": 59,
     "metadata": {},
     "output_type": "execute_result"
    },
    {
     "data": {
      "image/png": "[encoded data removed]",
      "text/plain": [
       "<matplotlib.figure.Figure at 0x13dac240>"
      ]
     },
     "metadata": {},
     "output_type": "display_data"
    }
   ],
   "source": [
    "plt.scatter(predict_x, Y)"
   ]
  },
  {
   "cell_type": "code",
   "execution_count": 60,
   "metadata": {
    "collapsed": false
   },
   "outputs": [
    {
     "name": "stdout",
     "output_type": "stream",
     "text": [
      "0.000561426739082\n"
     ]
    }
   ],
   "source": [
    "print metrics.mean_squared_error(Y, predict_x)"
   ]
  },
  {
   "cell_type": "code",
   "execution_count": 63,
   "metadata": {
    "collapsed": false
   },
   "outputs": [
    {
     "ename": "NameError",
     "evalue": "name 'cross_val_score' is not defined",
     "output_type": "error",
     "traceback": [
      "\u001b[1;31m---------------------------------------------------------------------------\u001b[0m",
      "\u001b[1;31mNameError\u001b[0m                                 Traceback (most recent call last)",
      "\u001b[1;32m<ipython-input-63-7f4b1b7a2bc9>\u001b[0m in \u001b[0;36m<module>\u001b[1;34m()\u001b[0m\n\u001b[0;32m      1\u001b[0m \u001b[0mregressor\u001b[0m \u001b[1;33m=\u001b[0m \u001b[0mDecisionTreeRegressor\u001b[0m\u001b[1;33m(\u001b[0m\u001b[0mrandom_state\u001b[0m\u001b[1;33m=\u001b[0m\u001b[1;36m0\u001b[0m\u001b[1;33m)\u001b[0m\u001b[1;33m\u001b[0m\u001b[0m\n\u001b[1;32m----> 2\u001b[1;33m \u001b[0mcross_val_score\u001b[0m\u001b[1;33m(\u001b[0m\u001b[0mregressor\u001b[0m\u001b[1;33m,\u001b[0m \u001b[0mboston\u001b[0m\u001b[1;33m.\u001b[0m\u001b[0mdata\u001b[0m\u001b[1;33m,\u001b[0m \u001b[0mboston\u001b[0m\u001b[1;33m.\u001b[0m\u001b[0mtarget\u001b[0m\u001b[1;33m,\u001b[0m \u001b[0mcv\u001b[0m\u001b[1;33m=\u001b[0m\u001b[1;36m10\u001b[0m\u001b[1;33m)\u001b[0m\u001b[1;33m\u001b[0m\u001b[0m\n\u001b[0m",
      "\u001b[1;31mNameError\u001b[0m: name 'cross_val_score' is not defined"
     ]
    }
   ],
   "source": [
    "kf = KFold(len(data), n_folds=3, shuffle=False)\n",
    "regressor = DecisionTreeRegressor(random_state=0)\n",
    "cross_val_score(logr, X, y, cv=kf, n_jobs = -1)"
   ]
  },
  {
   "cell_type": "code",
   "execution_count": null,
   "metadata": {
    "collapsed": true
   },
   "outputs": [],
   "source": []
  }
 ],
 "metadata": {
  "kernelspec": {
   "display_name": "Python 2",
   "language": "python",
   "name": "python2"
  },
  "language_info": {
   "codemirror_mode": {
    "name": "ipython",
    "version": 2
   },
   "file_extension": ".py",
   "mimetype": "text/x-python",
   "name": "python",
   "nbconvert_exporter": "python",
   "pygments_lexer": "ipython2",
   "version": "2.7.11"
  }
 },
 "nbformat": 4,
 "nbformat_minor": 0
}
